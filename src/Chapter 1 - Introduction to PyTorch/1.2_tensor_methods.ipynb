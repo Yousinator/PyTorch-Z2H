{
 "cells": [
  {
   "cell_type": "markdown",
   "metadata": {},
   "source": [
    "# Tensor Methods"
   ]
  },
  {
   "cell_type": "code",
   "execution_count": 2,
   "metadata": {},
   "outputs": [],
   "source": [
    "import torch\n",
    "import pandas as pd\n",
    "import numpy as np\n",
    "import matplotlib.pyplot as plt"
   ]
  },
  {
   "cell_type": "markdown",
   "metadata": {},
   "source": [
    "# Tensor Operations"
   ]
  },
  {
   "cell_type": "markdown",
   "metadata": {},
   "source": [
    "### Original Tensor"
   ]
  },
  {
   "cell_type": "code",
   "execution_count": 3,
   "metadata": {},
   "outputs": [
    {
     "name": "stdout",
     "output_type": "stream",
     "text": [
      "The value of 'original_tensor' is \n",
      "tensor([[0.5475, 0.5703, 0.0017, 0.3808, 0.9596],\n",
      "        [0.7699, 0.2728, 0.7127, 0.1973, 0.6113],\n",
      "        [0.6286, 0.1863, 0.5214, 0.2110, 0.1324],\n",
      "        [0.7573, 0.8776, 0.4667, 0.6067, 0.4764],\n",
      "        [0.8032, 0.3414, 0.1701, 0.2344, 0.8899]]) \n",
      "\n",
      "and it is of 2 dimensions | on cpu | and of shape torch.Size([5, 5])\n",
      "\n"
     ]
    }
   ],
   "source": [
    "original_tensor = torch.rand(size=[5,5],\n",
    "                       dtype=None,\n",
    "                       device = \"cpu\",\n",
    "                       requires_grad = False,\n",
    "                       )\n",
    "\n",
    "original_tensor_dimensions = original_tensor.ndim\n",
    "original_tensor_shape = original_tensor.shape\n",
    "print(\n",
    "    f\"The value of 'original_tensor' is \\n{original_tensor} \\n\\nand it is of {original_tensor_dimensions} dimensions | on {original_tensor.device} | and of shape {original_tensor_shape}\\n\"\n",
    ")"
   ]
  },
  {
   "cell_type": "markdown",
   "metadata": {},
   "source": [
    "### Basic Numerical Operation"
   ]
  },
  {
   "cell_type": "code",
   "execution_count": 4,
   "metadata": {},
   "outputs": [
    {
     "name": "stdout",
     "output_type": "stream",
     "text": [
      "The value of 'added_tensor' is \n",
      "tensor([[5.5475, 5.5703, 5.0017, 5.3808, 5.9596],\n",
      "        [5.7699, 5.2728, 5.7127, 5.1973, 5.6113],\n",
      "        [5.6286, 5.1863, 5.5214, 5.2110, 5.1324],\n",
      "        [5.7573, 5.8776, 5.4667, 5.6067, 5.4764],\n",
      "        [5.8032, 5.3414, 5.1701, 5.2344, 5.8899]]) \n",
      "\n",
      "and it is of 2 dimensions | on cpu | and of shape torch.Size([5, 5])\n",
      "\n"
     ]
    }
   ],
   "source": [
    "added_tensor = original_tensor + 5\n",
    "\n",
    "added_tensor_dimensions = added_tensor.ndim\n",
    "added_tensor_shape = added_tensor.shape\n",
    "print(\n",
    "    f\"The value of 'added_tensor' is \\n{added_tensor} \\n\\nand it is of {added_tensor_dimensions} dimensions | on {added_tensor.device} | and of shape {added_tensor_shape}\\n\"\n",
    ")"
   ]
  },
  {
   "cell_type": "code",
   "execution_count": 5,
   "metadata": {},
   "outputs": [
    {
     "name": "stdout",
     "output_type": "stream",
     "text": [
      "The value of 'subtracted_tensor' is \n",
      "tensor([[-4.4525, -4.4297, -4.9983, -4.6192, -4.0404],\n",
      "        [-4.2301, -4.7272, -4.2873, -4.8027, -4.3887],\n",
      "        [-4.3714, -4.8137, -4.4786, -4.7890, -4.8676],\n",
      "        [-4.2427, -4.1224, -4.5333, -4.3933, -4.5236],\n",
      "        [-4.1968, -4.6586, -4.8299, -4.7656, -4.1101]]) \n",
      "\n",
      "and it is of 2 dimensions | on cpu | and of shape torch.Size([5, 5])\n",
      "\n"
     ]
    }
   ],
   "source": [
    "subtracted_tensor = original_tensor - 5\n",
    "\n",
    "subtracted_tensor_dimensions = subtracted_tensor.ndim\n",
    "subtracted_tensor_shape = subtracted_tensor.shape\n",
    "print(\n",
    "    f\"The value of 'subtracted_tensor' is \\n{subtracted_tensor} \\n\\nand it is of {subtracted_tensor_dimensions} dimensions | on {subtracted_tensor.device} | and of shape {subtracted_tensor_shape}\\n\"\n",
    ")"
   ]
  },
  {
   "cell_type": "code",
   "execution_count": 6,
   "metadata": {},
   "outputs": [
    {
     "name": "stdout",
     "output_type": "stream",
     "text": [
      "The value of 'division_tensor' is \n",
      "tensor([[0.1095, 0.1141, 0.0003, 0.0762, 0.1919],\n",
      "        [0.1540, 0.0546, 0.1425, 0.0395, 0.1223],\n",
      "        [0.1257, 0.0373, 0.1043, 0.0422, 0.0265],\n",
      "        [0.1515, 0.1755, 0.0933, 0.1213, 0.0953],\n",
      "        [0.1606, 0.0683, 0.0340, 0.0469, 0.1780]]) \n",
      "\n",
      "and it is of 2 dimensions | on cpu | and of shape torch.Size([5, 5])\n",
      "\n"
     ]
    }
   ],
   "source": [
    "division_tensor = original_tensor / 5\n",
    "\n",
    "division_tensor_dimensions = division_tensor.ndim\n",
    "division_tensor_shape = division_tensor.shape\n",
    "print(\n",
    "    f\"The value of 'division_tensor' is \\n{division_tensor} \\n\\nand it is of {division_tensor_dimensions} dimensions | on {division_tensor.device} | and of shape {division_tensor_shape}\\n\"\n",
    ")"
   ]
  },
  {
   "cell_type": "code",
   "execution_count": 10,
   "metadata": {},
   "outputs": [
    {
     "name": "stdout",
     "output_type": "stream",
     "text": [
      "The value of 'multiplied_tensor' is \n",
      "tensor([[2.7377, 2.8516, 0.0087, 1.9040, 4.7981],\n",
      "        [3.8495, 1.3639, 3.5634, 0.9863, 3.0564],\n",
      "        [3.1428, 0.9313, 2.6071, 1.0550, 0.6618],\n",
      "        [3.7863, 4.3878, 2.3333, 3.0333, 2.3821],\n",
      "        [4.0162, 1.7068, 0.8504, 1.1722, 4.4495]]) \n",
      "\n",
      "and it is of 2 dimensions | on cpu | and of shape torch.Size([5, 5])\n",
      "\n"
     ]
    }
   ],
   "source": [
    "multiplied_tensor = original_tensor * 5\n",
    "\n",
    "multiplied_tensor_dimensions = multiplied_tensor.ndim\n",
    "multiplied_tensor_shape = multiplied_tensor.shape\n",
    "print(\n",
    "    f\"The value of 'multiplied_tensor' is \\n{multiplied_tensor} \\n\\nand it is of {multiplied_tensor_dimensions} dimensions | on {multiplied_tensor.device} | and of shape {multiplied_tensor_shape}\\n\"\n",
    ")"
   ]
  },
  {
   "cell_type": "markdown",
   "metadata": {},
   "source": [
    "### Advanced Numerical Operations"
   ]
  },
  {
   "cell_type": "code",
   "execution_count": 13,
   "metadata": {},
   "outputs": [
    {
     "name": "stdout",
     "output_type": "stream",
     "text": [
      "The value of 'elementWise_tensor' is \n",
      "tensor([[3.0375, 3.1768, 0.0087, 2.0490, 5.7190],\n",
      "        [4.4423, 1.4384, 4.0713, 1.0252, 3.4301],\n",
      "        [3.5379, 0.9660, 2.8789, 1.0995, 0.6793],\n",
      "        [4.3598, 5.1579, 2.5511, 3.4013, 2.6090],\n",
      "        [4.6614, 1.8233, 0.8794, 1.2271, 5.2414]]) \n",
      "\n",
      "and it is of 2 dimensions | on cpu | and of shape torch.Size([5, 5])\n",
      "\n"
     ]
    }
   ],
   "source": [
    "elementWise_tensor = torch.mul(original_tensor, added_tensor)\n",
    "\n",
    "elementWise_tensor_dimensions = elementWise_tensor.ndim\n",
    "elementWise_tensor_shape = elementWise_tensor.shape\n",
    "print(\n",
    "    f\"The value of 'elementWise_tensor' is \\n{elementWise_tensor} \\n\\nand it is of {elementWise_tensor_dimensions} dimensions | on {elementWise_tensor.device} | and of shape {elementWise_tensor_shape}\\n\"\n",
    ")"
   ]
  },
  {
   "cell_type": "markdown",
   "metadata": {},
   "source": [
    "### Element-wise Operation in PyTorch\n",
    "\n",
    "In the context of PyTorch, an element-wise operation refers to a mathematical operation performed independently on each element of one or more tensors.\n",
    "- `torch.mul()` is a function in PyTorch used to perform element-wise multiplication between tensors.\n",
    "\n",
    "----------------------------------------------------------------------------------------------\n",
    "`NOTE:` The resulting tensor `dot_tensor` is obtained by element-wise multiplication of `original_tensor` and `added_tensor`.\n",
    "\n",
    "As shown above, the resulting tensor `dot_tensor` has the same dimensions and shape as the input tensors.\n"
   ]
  },
  {
   "cell_type": "code",
   "execution_count": 7,
   "metadata": {},
   "outputs": [
    {
     "name": "stdout",
     "output_type": "stream",
     "text": [
      "The value of 'cross_tensor' is \n",
      "tensor([[14.0992, 13.4300, 13.0493, 13.0774, 14.2098],\n",
      "        [14.5395, 13.8476, 13.5829, 13.5799, 14.4574],\n",
      "        [ 9.4794,  9.1348,  8.9247,  8.9432,  9.4024],\n",
      "        [18.1485, 17.3760, 17.1570, 16.9625, 17.9607],\n",
      "        [13.8969, 13.2874, 12.7891, 12.9549, 14.1006]]) \n",
      "\n",
      "and it is of 2 dimensions | on cpu | and of shape torch.Size([5, 5])\n",
      "\n"
     ]
    }
   ],
   "source": [
    "cross_tensor = torch.matmul(original_tensor, added_tensor)\n",
    "\n",
    "cross_tensor_dimensions = cross_tensor.ndim\n",
    "cross_tensor_shape = cross_tensor.shape\n",
    "print(\n",
    "    f\"The value of 'cross_tensor' is \\n{cross_tensor} \\n\\nand it is of {cross_tensor_dimensions} dimensions | on {cross_tensor.device} | and of shape {cross_tensor_shape}\\n\"\n",
    ")"
   ]
  },
  {
   "cell_type": "markdown",
   "metadata": {},
   "source": [
    "### Matrix Multiplication (torch.matmul) in PyTorch\n",
    "\n",
    "In PyTorch, matrix multiplication is performed using the `torch.matmul()` function. This function computes the matrix product of two tensors, which is different from element-wise multiplication.\n",
    "\n",
    "Matrix multiplication involves multiplying the rows of the first matrix with the columns of the second matrix to produce a new matrix. The dimensions of the matrices must satisfy certain requirements for the multiplication to be valid:\n",
    "\n",
    "---------------------------------------\n",
    "\n",
    "- `NOTE:` The number of columns in the first matrix must equal the number of rows in the second matrix.\n",
    "- `NOTE:` If matrix1 has shape `(m, n)` and `matrix2` has shape `(n, p)`, then the resulting matrix, `result_matrix`, will have a shape of `(m, p)`."
   ]
  },
  {
   "cell_type": "code",
   "execution_count": 8,
   "metadata": {},
   "outputs": [
    {
     "name": "stdout",
     "output_type": "stream",
     "text": [
      "The value of 'transposed_tensor' is \n",
      "tensor([[14.0992, 14.5395,  9.4794, 18.1485, 13.8969],\n",
      "        [13.4300, 13.8476,  9.1348, 17.3760, 13.2874],\n",
      "        [13.0493, 13.5829,  8.9247, 17.1570, 12.7891],\n",
      "        [13.0774, 13.5799,  8.9432, 16.9625, 12.9549],\n",
      "        [14.2098, 14.4574,  9.4024, 17.9607, 14.1006]]) \n",
      "\n",
      "and it is of 2 dimensions | on cpu | and of shape torch.Size([5, 5])\n",
      "\n"
     ]
    }
   ],
   "source": [
    "transposed_tensor = cross_tensor.T\n",
    "\n",
    "transposed_tensor_dimensions = transposed_tensor.ndim\n",
    "transposed_tensor_shape = transposed_tensor.shape\n",
    "print(\n",
    "    f\"The value of 'transposed_tensor' is \\n{transposed_tensor} \\n\\nand it is of {transposed_tensor_dimensions} dimensions | on {transposed_tensor.device} | and of shape {transposed_tensor_shape}\\n\"\n",
    ")"
   ]
  },
  {
   "cell_type": "markdown",
   "metadata": {},
   "source": [
    "### Transposing a Tensor in PyTorch\n",
    "\n",
    "In PyTorch, transposing a tensor involves rearranging its dimensions. This operation swaps the dimensions of the tensor, effectively flipping its shape.\n",
    "\n",
    "For example, if a tensor has dimensions `(m, n)`, transposing it will result in a tensor with dimensions `(n, m)`, where the rows become columns and vice versa."
   ]
  },
  {
   "cell_type": "markdown",
   "metadata": {},
   "source": [
    "# Tensor Aggregations"
   ]
  },
  {
   "cell_type": "code",
   "execution_count": 9,
   "metadata": {},
   "outputs": [
    {
     "name": "stdout",
     "output_type": "stream",
     "text": [
      "Max number in `transposed_tensor` is 18.148517608642578.\n",
      "Min number in `transposed_tensor` is 8.924700736999512.\n",
      "Mean of numbers in `transposed_tensor` is 13.53564739227295.\n",
      "Sum of all numbers in `transposed_tensor` is 338.39117431640625.\n"
     ]
    }
   ],
   "source": [
    "tensor_max = transposed_tensor.max()\n",
    "tensor_min = transposed_tensor.min()\n",
    "tensor_mean = transposed_tensor.mean()\n",
    "tensor_sum = transposed_tensor.sum()\n",
    "\n",
    "print(f\"Max number in `transposed_tensor` is {tensor_max}.\")\n",
    "print(f\"Min number in `transposed_tensor` is {tensor_min}.\")\n",
    "print(f\"Mean of numbers in `transposed_tensor` is {tensor_mean}.\")\n",
    "print(f\"Sum of all numbers in `transposed_tensor` is {tensor_sum}.\")"
   ]
  },
  {
   "cell_type": "markdown",
   "metadata": {},
   "source": [
    "- `tensor.max()` returns the highest value in the tensor\n",
    "- `tensor.min()` returns the smallest value in the tensor\n",
    "- `tensor.mean()` returns the avg value in the tensor\n",
    "- `tensor.sum()` returns the sum of all the values in the tensor\n",
    "----------------------------------------------------------------------------------------------\n",
    "`NOTE:` the `tensor.mean()` only works for float data types<br>"
   ]
  },
  {
   "cell_type": "code",
   "execution_count": null,
   "metadata": {},
   "outputs": [],
   "source": []
  }
 ],
 "metadata": {
  "kernelspec": {
   "display_name": "tensorflow-fcc-6AozMQ3e-py3.10",
   "language": "python",
   "name": "python3"
  },
  "language_info": {
   "codemirror_mode": {
    "name": "ipython",
    "version": 3
   },
   "file_extension": ".py",
   "mimetype": "text/x-python",
   "name": "python",
   "nbconvert_exporter": "python",
   "pygments_lexer": "ipython3",
   "version": "3.10.12"
  }
 },
 "nbformat": 4,
 "nbformat_minor": 2
}
