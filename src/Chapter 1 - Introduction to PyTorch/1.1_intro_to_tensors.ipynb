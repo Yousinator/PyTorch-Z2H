{
 "cells": [
  {
   "cell_type": "markdown",
   "metadata": {},
   "source": [
    "# Introduction to Tensors"
   ]
  },
  {
   "cell_type": "code",
   "execution_count": 2,
   "metadata": {},
   "outputs": [],
   "source": [
    "import torch\n",
    "import pandas as pd\n",
    "import numpy as np\n",
    "import matplotlib.pyplot as plt"
   ]
  },
  {
   "cell_type": "markdown",
   "metadata": {},
   "source": [
    "## Scalars"
   ]
  },
  {
   "cell_type": "code",
   "execution_count": 3,
   "metadata": {},
   "outputs": [
    {
     "name": "stdout",
     "output_type": "stream",
     "text": [
      "The value of 'scalar' is 7 / (Python Data Type: 7) | and it is of 0 dimensions\n"
     ]
    }
   ],
   "source": [
    "scalar = torch.tensor(7)\n",
    "scalar_dimensions = scalar.ndim\n",
    "print(f\"The value of 'scalar' is {scalar} / (Python Data Type: {scalar.item()}) | and it is of {scalar_dimensions} dimensions\")"
   ]
  },
  {
   "cell_type": "markdown",
   "metadata": {},
   "source": [
    "- `torch.tensor()` is a method to create tensors in PyTorch\n",
    "- `scalar.ndim` is an attribute that displays the dimensions of the Tensor/Scalar\n",
    "- `scalar.item()` is a method to to display the value of the tensor as a Python Data Type *-Instead of the second cell-*\n",
    "----------------------------------------------------------------------------------------------\n",
    "`NOTE:` the `scalar.item()` only works for scalar values<br>\n",
    "As shown above, given that `scalar` has no dimensions, it means that it is rather called a scalar not a tensor"
   ]
  },
  {
   "cell_type": "markdown",
   "metadata": {},
   "source": [
    "## Vectors"
   ]
  },
  {
   "cell_type": "code",
   "execution_count": 5,
   "metadata": {},
   "outputs": [
    {
     "name": "stdout",
     "output_type": "stream",
     "text": [
      "The value of 'vector' is tensor([7, 7]) | and it is of 1 dimensions | and of shape torch.Size([2])\n"
     ]
    }
   ],
   "source": [
    "vector = torch.tensor([7,7])\n",
    "vector_dimensions = vector.ndim\n",
    "vector_shape = vector.shape\n",
    "print(\n",
    "    f\"The value of 'vector' is {vector} | and it is of {vector_dimensions} dimensions | and of shape {vector_shape}\"\n",
    ")"
   ]
  },
  {
   "cell_type": "markdown",
   "metadata": {},
   "source": [
    "As shown above, given that `vector` has a dimension of **[1]**, it means that it is a vector<br>\n",
    "`NOTE:` Given that `vector` has dimensions we can get its shape now using `vector.shape` attribute"
   ]
  },
  {
   "cell_type": "markdown",
   "metadata": {},
   "source": [
    "## Matrices"
   ]
  },
  {
   "cell_type": "code",
   "execution_count": 6,
   "metadata": {},
   "outputs": [
    {
     "name": "stdout",
     "output_type": "stream",
     "text": [
      "The value of 'matrix' is: \n",
      "tensor([[7, 7],\n",
      "        [8, 8]]) \n",
      "\n",
      "and it is of 2 dimensions | and of shape torch.Size([2, 2])\n"
     ]
    }
   ],
   "source": [
    "matrix = torch.tensor([[7, 7],[8,8]])\n",
    "matrix_dimensions = matrix.ndim\n",
    "matrix_shape = matrix.shape\n",
    "print(\n",
    "    f\"The value of 'matrix' is: \\n{matrix} \\n\\nand it is of {matrix_dimensions} dimensions | and of shape {matrix_shape}\"\n",
    ")"
   ]
  },
  {
   "cell_type": "markdown",
   "metadata": {},
   "source": [
    "As shown above, given that `matrix` has a dimension of **[2]**, it means that it is a matrix<br>"
   ]
  },
  {
   "cell_type": "markdown",
   "metadata": {},
   "source": [
    "## Tensors"
   ]
  },
  {
   "cell_type": "code",
   "execution_count": 7,
   "metadata": {},
   "outputs": [
    {
     "name": "stdout",
     "output_type": "stream",
     "text": [
      "The value of 'my_tensor' is \n",
      "tensor([[[ 7,  7],\n",
      "         [ 8,  8]],\n",
      "\n",
      "        [[ 9,  9],\n",
      "         [11, 11]]]) \n",
      "\n",
      "and it is of 3 dimensions | and of shape torch.Size([2, 2, 2])\n"
     ]
    }
   ],
   "source": [
    "my_tensor = torch.tensor([[[7, 7], [8, 8]], [[9, 9], [11, 11]]])\n",
    "my_tensor_dimensions = my_tensor.ndim\n",
    "my_tensor_shape = my_tensor.shape\n",
    "print(\n",
    "    f\"The value of 'my_tensor' is \\n{my_tensor} \\n\\nand it is of {my_tensor_dimensions} dimensions | and of shape {my_tensor_shape}\"\n",
    ")"
   ]
  },
  {
   "cell_type": "markdown",
   "metadata": {},
   "source": [
    "As shown above, given that `my_tensor` has a dimension of **[3]**, it means that it is a tensor<br>\n",
    "`NOTE:` `Tensors` tend to have a dimension of **[3]** or more"
   ]
  },
  {
   "cell_type": "markdown",
   "metadata": {},
   "source": []
  },
  {
   "cell_type": "markdown",
   "metadata": {},
   "source": [
    "# Creating Tensors"
   ]
  },
  {
   "cell_type": "code",
   "execution_count": 8,
   "metadata": {},
   "outputs": [],
   "source": [
    "rand_tensor = torch.rand(size=(3,3))"
   ]
  },
  {
   "cell_type": "markdown",
   "metadata": {},
   "source": [
    "- `torch.rand()` function creates a tensor with random values inside it\n",
    "- `size=()` parameter allows you to specify the size of the tensor *-obviously :D-*"
   ]
  },
  {
   "cell_type": "code",
   "execution_count": 9,
   "metadata": {},
   "outputs": [],
   "source": [
    "zeros_tensor = torch.zeros(3,3)\n",
    "ones_tensor = torch.ones(3,3)"
   ]
  },
  {
   "cell_type": "markdown",
   "metadata": {},
   "source": [
    "- `torch.zeros()` Creates a tensor that contains all zeroes \n",
    "- `torch.ones()` Creates a tensor that contains all ones"
   ]
  },
  {
   "cell_type": "code",
   "execution_count": 10,
   "metadata": {},
   "outputs": [
    {
     "name": "stdout",
     "output_type": "stream",
     "text": [
      "The value of 'rand_tensor' is \n",
      "tensor([[0.8886, 0.0593, 0.0811, 0.6277, 0.9256],\n",
      "        [0.9168, 0.1673, 0.6940, 0.0186, 0.4753],\n",
      "        [0.3753, 0.5700, 0.1443, 0.4929, 0.9251]]) \n",
      "\n",
      "and it is of 2 dimensions | and of shape torch.Size([3, 5])\n"
     ]
    }
   ],
   "source": [
    "rand_tensor = torch.rand(3,5)\n",
    "rand_tensor_dimensions = rand_tensor.ndim\n",
    "rand_tensor_shape = rand_tensor.shape\n",
    "print(\n",
    "    f\"The value of 'rand_tensor' is \\n{rand_tensor} \\n\\nand it is of {rand_tensor_dimensions} dimensions | and of shape {rand_tensor_shape}\"\n",
    ")"
   ]
  },
  {
   "cell_type": "markdown",
   "metadata": {},
   "source": []
  },
  {
   "cell_type": "code",
   "execution_count": 12,
   "metadata": {},
   "outputs": [
    {
     "name": "stdout",
     "output_type": "stream",
     "text": [
      "The value of 'ranged_tensor' is \n",
      "tensor([ 1,  9, 17, 25, 33, 41, 49, 57, 65, 73, 81, 89, 97]) \n",
      "\n",
      "and it is of 1 dimensions | and of shape torch.Size([13])\n"
     ]
    }
   ],
   "source": [
    "ranged_tensor = torch.arange(start=1,end =100, step=8)\n",
    "ranged_tensor_dimensions = ranged_tensor.ndim\n",
    "ranged_tensor_shape = ranged_tensor.shape\n",
    "print(\n",
    "    f\"The value of 'ranged_tensor' is \\n{ranged_tensor} \\n\\nand it is of {ranged_tensor_dimensions} dimensions | and of shape {ranged_tensor_shape}\"\n",
    ")"
   ]
  },
  {
   "cell_type": "markdown",
   "metadata": {},
   "source": [
    "`torch.arange` Creates a tensor within a specific range\n",
    "    <br>- *start* -> Starting Number\n",
    "    <br>- *end* -> Ending Number + 1\n",
    "    <br>- *step* -> Step Size, meaning how much PyTorch will add in each iterarion"
   ]
  },
  {
   "cell_type": "markdown",
   "metadata": {},
   "source": []
  },
  {
   "cell_type": "code",
   "execution_count": 13,
   "metadata": {},
   "outputs": [
    {
     "name": "stdout",
     "output_type": "stream",
     "text": [
      "The value of 'like_tensor' is \n",
      "tensor([[[0, 0],\n",
      "         [0, 0]],\n",
      "\n",
      "        [[0, 0],\n",
      "         [0, 0]]]) \n",
      "\n",
      "and it is of 3 dimensions | and of shape torch.Size([2, 2, 2])\n"
     ]
    }
   ],
   "source": [
    "like_tensor = torch.zeros_like(input= my_tensor)\n",
    "like_tensor_dimensions = like_tensor.ndim\n",
    "like_tensor_shape = like_tensor.shape\n",
    "print(\n",
    "    f\"The value of 'like_tensor' is \\n{like_tensor} \\n\\nand it is of {like_tensor_dimensions} dimensions | and of shape {like_tensor_shape}\"\n",
    ")"
   ]
  },
  {
   "cell_type": "markdown",
   "metadata": {},
   "source": [
    "`torcch.zeros_like` creates a tensor of zeros that replicates a another tensor's shape"
   ]
  },
  {
   "cell_type": "markdown",
   "metadata": {},
   "source": [
    "# Creating Advanced Tensors"
   ]
  },
  {
   "cell_type": "code",
   "execution_count": 24,
   "metadata": {},
   "outputs": [
    {
     "name": "stdout",
     "output_type": "stream",
     "text": [
      "The value of 'sample_tensor' is \n",
      "tensor([[[ 7,  7],\n",
      "         [ 8,  8]],\n",
      "\n",
      "        [[ 9,  9],\n",
      "         [11, 11]]]) \n",
      "\n",
      "and it is of 3 dimensions | on cpu | and of shape torch.Size([2, 2, 2])\n",
      "\n"
     ]
    },
    {
     "name": "stderr",
     "output_type": "stream",
     "text": [
      "/tmp/ipykernel_366490/71318034.py:1: UserWarning: To copy construct from a tensor, it is recommended to use sourceTensor.clone().detach() or sourceTensor.clone().detach().requires_grad_(True), rather than torch.tensor(sourceTensor).\n",
      "  sample_tensor = torch.tensor(my_tensor.clone().detach(),\n"
     ]
    }
   ],
   "source": [
    "sample_tensor = torch.tensor(my_tensor.clone().detach(),\n",
    "                             dtype = int, #! Defines Data tpye\n",
    "                             device = torch.device(\"cpu\"), #! Defines on where the tensor gets vreated (e.g cpu, gpu, etc.)\n",
    "                             requires_grad = False, #! For tracking Gradients *TBD*\n",
    "                             )\n",
    "\n",
    "sample_tensor_dimensions = sample_tensor.ndim\n",
    "sample_tensor_shape = sample_tensor.shape\n",
    "print(\n",
    "    f\"The value of 'sample_tensor' is \\n{sample_tensor} \\n\\nand it is of {sample_tensor_dimensions} dimensions | on {sample_tensor.device} | and of shape {sample_tensor_shape}\\n\"\n",
    ")"
   ]
  },
  {
   "cell_type": "markdown",
   "metadata": {},
   "source": [
    "When creating a tensor it is recommended to specify the following metrics:<br>\n",
    "- `dtype` -> The data type of the tensor<br>\n",
    "- `device` -> The device on which the tensor is stored (e.g CPU, GPU, etc...)<br>\n",
    "- `requires_grad` -> Whether the tensor requires gradient or not<br>\n",
    "-----------------------------------------------------------------\n",
    "`NOTE:` *Operations between two tensor have to be of the same `shape` on the same `device`*"
   ]
  },
  {
   "cell_type": "code",
   "execution_count": null,
   "metadata": {},
   "outputs": [],
   "source": []
  }
 ],
 "metadata": {
  "kernelspec": {
   "display_name": "tensorflow-fcc-6AozMQ3e-py3.10",
   "language": "python",
   "name": "python3"
  },
  "language_info": {
   "codemirror_mode": {
    "name": "ipython",
    "version": 3
   },
   "file_extension": ".py",
   "mimetype": "text/x-python",
   "name": "python",
   "nbconvert_exporter": "python",
   "pygments_lexer": "ipython3",
   "version": "3.10.12"
  }
 },
 "nbformat": 4,
 "nbformat_minor": 2
}
